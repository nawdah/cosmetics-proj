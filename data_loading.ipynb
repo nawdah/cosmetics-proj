{
 "cells": [
  {
   "cell_type": "code",
   "execution_count": 1,
   "metadata": {},
   "outputs": [],
   "source": [
    "#importing necessary things\n",
    "import pandas as pd\n",
    "from sqlalchemy import create_engine\n",
    "import psycopg2\n",
    "from psycopg2 import sql\n",
    "from psycopg2.extensions import ISOLATION_LEVEL_AUTOCOMMIT\n",
    "import config #you need to make a config.py file in the folder, already in .gitignore so it shouldn't be pushed to repo"
   ]
  },
  {
   "cell_type": "code",
   "execution_count": 2,
   "metadata": {},
   "outputs": [],
   "source": [
    "#paths to import the csvs\n",
    "path1 = 'sephora_df.csv'\n",
    "path2 = 'ulta_df.csv'\n",
    "sephora = pd.read_csv(path1)\n",
    "ulta = pd.read_csv(path2)\n",
    "# print(sephora.head())\n",
    "# ulta.head()"
   ]
  },
  {
   "cell_type": "code",
   "execution_count": 3,
   "metadata": {},
   "outputs": [],
   "source": [
    "#this is where you are connecting to the database and are creating the database\n",
    "con = psycopg2.connect(dbname='postgres',\n",
    "      user=config.username, host='',\n",
    "      password=config.password)\n",
    "\n",
    "con.set_isolation_level(ISOLATION_LEVEL_AUTOCOMMIT)\n",
    "\n",
    "cur = con.cursor()\n",
    "cur.execute('CREATE DATABASE {};'.format('makeup_db'))"
   ]
  },
  {
   "cell_type": "code",
   "execution_count": 4,
   "metadata": {},
   "outputs": [],
   "source": [
    "#connecting to the database that you just created and starting a session\n",
    "rds_connection_string = \"postgres:tronrunner@localhost:5432/makeup_db\"\n",
    "engine = create_engine(f'postgresql://{rds_connection_string}')"
   ]
  },
  {
   "cell_type": "code",
   "execution_count": 12,
   "metadata": {},
   "outputs": [
    {
     "data": {
      "text/plain": [
       "['sephora', 'ulta', 'all_makeup']"
      ]
     },
     "execution_count": 12,
     "metadata": {},
     "output_type": "execute_result"
    }
   ],
   "source": [
    "# Confirm tables NOTE: should be empty at first and then when run again after the next few statements the tables should show up\n",
    "engine.table_names()"
   ]
  },
  {
   "cell_type": "code",
   "execution_count": 10,
   "metadata": {},
   "outputs": [
    {
     "data": {
      "text/html": [
       "<div>\n",
       "<style scoped>\n",
       "    .dataframe tbody tr th:only-of-type {\n",
       "        vertical-align: middle;\n",
       "    }\n",
       "\n",
       "    .dataframe tbody tr th {\n",
       "        vertical-align: top;\n",
       "    }\n",
       "\n",
       "    .dataframe thead th {\n",
       "        text-align: right;\n",
       "    }\n",
       "</style>\n",
       "<table border=\"1\" class=\"dataframe\">\n",
       "  <thead>\n",
       "    <tr style=\"text-align: right;\">\n",
       "      <th></th>\n",
       "      <th>Brand</th>\n",
       "      <th>Product</th>\n",
       "      <th>Product Type</th>\n",
       "      <th>Price</th>\n",
       "      <th>Rating</th>\n",
       "      <th>Details</th>\n",
       "      <th>Ingredients</th>\n",
       "      <th>URL</th>\n",
       "      <th>Store</th>\n",
       "    </tr>\n",
       "  </thead>\n",
       "  <tbody>\n",
       "    <tr>\n",
       "      <th>1719</th>\n",
       "      <td>Nioxin</td>\n",
       "      <td>Scalp Therapy Conditioner, System 3 (Color Tre...</td>\n",
       "      <td>conditioner</td>\n",
       "      <td>51.00</td>\n",
       "      <td>4.5</td>\n",
       "      <td>Strengthen and moisturize hair with Nioxin's t...</td>\n",
       "      <td>Water, Cetyl Alcohol, Stearamidopropyl Dimethy...</td>\n",
       "      <td>https://www.ulta.com/scalp-therapy-conditioner...</td>\n",
       "      <td>Ulta</td>\n",
       "    </tr>\n",
       "    <tr>\n",
       "      <th>1720</th>\n",
       "      <td>Living Proof</td>\n",
       "      <td>Restore Conditioner</td>\n",
       "      <td>conditioner</td>\n",
       "      <td>59.00</td>\n",
       "      <td>4.3</td>\n",
       "      <td>Living Proof Restore Conditioner is a moisture...</td>\n",
       "      <td>Water/Eau/Aqua, Cetearyl Alcohol, Octafluorope...</td>\n",
       "      <td>https://www.ulta.com/restore-conditioner?produ...</td>\n",
       "      <td>Ulta</td>\n",
       "    </tr>\n",
       "    <tr>\n",
       "      <th>1721</th>\n",
       "      <td>Wella</td>\n",
       "      <td>Invigo Brilliance Conditioner For Coarse Hair</td>\n",
       "      <td>conditioner</td>\n",
       "      <td>33.84</td>\n",
       "      <td>4.6</td>\n",
       "      <td>Wella INVIGO Brilliance Vibrant Color Conditio...</td>\n",
       "      <td>Aqua/Water/Eau, Stearyl Alcohol, Cetyl Alcohol...</td>\n",
       "      <td>https://www.ulta.com/invigo-brilliance-conditi...</td>\n",
       "      <td>Ulta</td>\n",
       "    </tr>\n",
       "    <tr>\n",
       "      <th>1722</th>\n",
       "      <td>AG Hair</td>\n",
       "      <td>Colour Care Sterling Silver Toning Conditioner</td>\n",
       "      <td>conditioner</td>\n",
       "      <td>48.00</td>\n",
       "      <td>4.4</td>\n",
       "      <td>Blonde or silver hair needs specific condition...</td>\n",
       "      <td>Water (Aqua, Eau), Glycerin, Caprylic/Capric T...</td>\n",
       "      <td>https://www.ulta.com/colour-care-sterling-silv...</td>\n",
       "      <td>Ulta</td>\n",
       "    </tr>\n",
       "    <tr>\n",
       "      <th>1723</th>\n",
       "      <td>AG Hair</td>\n",
       "      <td>Keratin Repair Restore Daily Strengthening Con...</td>\n",
       "      <td>conditioner</td>\n",
       "      <td>58.00</td>\n",
       "      <td>4.1</td>\n",
       "      <td>Restore bounce and add a soft, silky look and ...</td>\n",
       "      <td>Water (Aqua, Eau), Cetearyl Alcohol, Caprylic/...</td>\n",
       "      <td>https://www.ulta.com/keratin-repair-restore-da...</td>\n",
       "      <td>Ulta</td>\n",
       "    </tr>\n",
       "  </tbody>\n",
       "</table>\n",
       "</div>"
      ],
      "text/plain": [
       "             Brand                                            Product  \\\n",
       "1719        Nioxin  Scalp Therapy Conditioner, System 3 (Color Tre...   \n",
       "1720  Living Proof                                Restore Conditioner   \n",
       "1721         Wella      Invigo Brilliance Conditioner For Coarse Hair   \n",
       "1722       AG Hair     Colour Care Sterling Silver Toning Conditioner   \n",
       "1723       AG Hair  Keratin Repair Restore Daily Strengthening Con...   \n",
       "\n",
       "     Product Type  Price  Rating  \\\n",
       "1719  conditioner  51.00     4.5   \n",
       "1720  conditioner  59.00     4.3   \n",
       "1721  conditioner  33.84     4.6   \n",
       "1722  conditioner  48.00     4.4   \n",
       "1723  conditioner  58.00     4.1   \n",
       "\n",
       "                                                Details  \\\n",
       "1719  Strengthen and moisturize hair with Nioxin's t...   \n",
       "1720  Living Proof Restore Conditioner is a moisture...   \n",
       "1721  Wella INVIGO Brilliance Vibrant Color Conditio...   \n",
       "1722  Blonde or silver hair needs specific condition...   \n",
       "1723  Restore bounce and add a soft, silky look and ...   \n",
       "\n",
       "                                            Ingredients  \\\n",
       "1719  Water, Cetyl Alcohol, Stearamidopropyl Dimethy...   \n",
       "1720  Water/Eau/Aqua, Cetearyl Alcohol, Octafluorope...   \n",
       "1721  Aqua/Water/Eau, Stearyl Alcohol, Cetyl Alcohol...   \n",
       "1722  Water (Aqua, Eau), Glycerin, Caprylic/Capric T...   \n",
       "1723  Water (Aqua, Eau), Cetearyl Alcohol, Caprylic/...   \n",
       "\n",
       "                                                    URL Store  \n",
       "1719  https://www.ulta.com/scalp-therapy-conditioner...  Ulta  \n",
       "1720  https://www.ulta.com/restore-conditioner?produ...  Ulta  \n",
       "1721  https://www.ulta.com/invigo-brilliance-conditi...  Ulta  \n",
       "1722  https://www.ulta.com/colour-care-sterling-silv...  Ulta  \n",
       "1723  https://www.ulta.com/keratin-repair-restore-da...  Ulta  "
      ]
     },
     "execution_count": 10,
     "metadata": {},
     "output_type": "execute_result"
    }
   ],
   "source": [
    "#putting it all in one big table just in case its easier to use for flask\n",
    "all_makeup = sephora.merge(ulta, how='outer')\n",
    "all_makeup.tail()"
   ]
  },
  {
   "cell_type": "code",
   "execution_count": 11,
   "metadata": {},
   "outputs": [],
   "source": [
    "#adding all makeup to the postgres database\n",
    "all_makeup.to_sql(name='all_makeup', con=engine, index=False)"
   ]
  },
  {
   "cell_type": "code",
   "execution_count": 6,
   "metadata": {},
   "outputs": [],
   "source": [
    "#adding sephora to the database\n",
    "sephora.to_sql(name='sephora', con=engine, index=False)"
   ]
  },
  {
   "cell_type": "code",
   "execution_count": 7,
   "metadata": {},
   "outputs": [],
   "source": [
    "#adding ulta to the database\n",
    "ulta.to_sql(name='ulta', con=engine, index=False)"
   ]
  },
  {
   "cell_type": "code",
   "execution_count": null,
   "metadata": {},
   "outputs": [],
   "source": []
  }
 ],
 "metadata": {
  "kernelspec": {
   "display_name": "Python 3",
   "language": "python",
   "name": "python3"
  },
  "language_info": {
   "codemirror_mode": {
    "name": "ipython",
    "version": 3
   },
   "file_extension": ".py",
   "mimetype": "text/x-python",
   "name": "python",
   "nbconvert_exporter": "python",
   "pygments_lexer": "ipython3",
   "version": "3.7.1"
  }
 },
 "nbformat": 4,
 "nbformat_minor": 2
}
