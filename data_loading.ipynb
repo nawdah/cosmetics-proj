{
 "cells": [
  {
   "cell_type": "code",
   "execution_count": 1,
   "metadata": {},
   "outputs": [],
   "source": [
    "#importing necessary things\n",
    "import pandas as pd\n",
    "from sqlalchemy import create_engine\n",
    "import psycopg2\n",
    "from psycopg2 import sql\n",
    "from psycopg2.extensions import ISOLATION_LEVEL_AUTOCOMMIT\n",
    "import config #you need to make a config.py file in the folder, already in .gitignore so it shouldn't be pushed to repo"
   ]
  },
  {
   "cell_type": "code",
   "execution_count": 2,
   "metadata": {},
   "outputs": [],
   "source": [
    "#paths to import the csvs\n",
    "path1 = 'sephora_df.csv'\n",
    "path2 = 'ulta_df.csv'\n",
    "sephora = pd.read_csv(path1)\n",
    "ulta = pd.read_csv(path2)\n",
    "# print(sephora.head())\n",
    "# ulta.head()"
   ]
  },
  {
   "cell_type": "code",
   "execution_count": 3,
   "metadata": {},
   "outputs": [],
   "source": [
    "#this is where you are connecting to the database and are creating the database\n",
    "con = psycopg2.connect(dbname='postgres',\n",
    "      user=config.username, host='',\n",
    "      password=config.password)\n",
    "\n",
    "con.set_isolation_level(ISOLATION_LEVEL_AUTOCOMMIT)\n",
    "\n",
    "cur = con.cursor()\n",
    "cur.execute('CREATE DATABASE {};'.format('makeup_db'))"
   ]
  },
  {
   "cell_type": "code",
   "execution_count": 4,
   "metadata": {},
   "outputs": [],
   "source": [
    "#connecting to the database that you just created and starting a session\n",
    "rds_connection_string = f\"{config.username}:{config.password}@localhost:5432/makeup_db\"\n",
    "engine = create_engine(f'postgresql://{rds_connection_string}')"
   ]
  },
  {
   "cell_type": "code",
   "execution_count": 10,
   "metadata": {},
   "outputs": [
    {
     "data": {
      "text/plain": [
       "['all_makeup', 'sephora', 'ulta']"
      ]
     },
     "execution_count": 10,
     "metadata": {},
     "output_type": "execute_result"
    }
   ],
   "source": [
    "# Confirm tables NOTE: should be empty at first and then when run again after the next few statements the tables should show up\n",
    "engine.table_names()"
   ]
  },
  {
   "cell_type": "code",
   "execution_count": 6,
   "metadata": {},
   "outputs": [],
   "source": [
    "#putting it all in one big table just in case its easier to use for flask\n",
    "all_makeup = sephora.merge(ulta, how='outer')\n",
    "all_makeup.tail()\n",
    "all_makeup.to_csv('all_makeup.csv')"
   ]
  },
  {
   "cell_type": "code",
   "execution_count": 7,
   "metadata": {},
   "outputs": [],
   "source": [
    "#adding all makeup to the postgres database\n",
    "all_makeup.to_sql(name='all_makeup', con=engine, index=False)"
   ]
  },
  {
   "cell_type": "code",
   "execution_count": 8,
   "metadata": {},
   "outputs": [],
   "source": [
    "#adding sephora to the database\n",
    "sephora.to_sql(name='sephora', con=engine, index=False)"
   ]
  },
  {
   "cell_type": "code",
   "execution_count": 9,
   "metadata": {},
   "outputs": [],
   "source": [
    "#adding ulta to the database\n",
    "ulta.to_sql(name='ulta', con=engine, index=False)"
   ]
  },
  {
   "cell_type": "code",
   "execution_count": null,
   "metadata": {},
   "outputs": [],
   "source": []
  }
 ],
 "metadata": {
  "kernelspec": {
   "display_name": "Python 3",
   "language": "python",
   "name": "python3"
  },
  "language_info": {
   "codemirror_mode": {
    "name": "ipython",
    "version": 3
   },
   "file_extension": ".py",
   "mimetype": "text/x-python",
   "name": "python",
   "nbconvert_exporter": "python",
   "pygments_lexer": "ipython3",
   "version": "3.7.1"
  }
 },
 "nbformat": 4,
 "nbformat_minor": 2
}
