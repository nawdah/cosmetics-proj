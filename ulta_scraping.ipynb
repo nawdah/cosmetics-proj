{
 "cells": [
  {
   "cell_type": "code",
   "execution_count": 2,
   "metadata": {},
   "outputs": [],
   "source": [
    "import requests\n",
    "import json\n",
    "import re\n",
    "from bs4 import BeautifulSoup\n",
    "from pprint import pprint\n",
    "from selenium import webdriver"
   ]
  },
  {
   "cell_type": "code",
   "execution_count": 3,
   "metadata": {},
   "outputs": [],
   "source": [
    "#create a list of the makeup tabs we want to loop through and \n",
    "#a seperate list for the max amount of pages that are available for each tab\n",
    "\n",
    "search_list = ['makeup-face-blush?N=277v', 'makeup-face-foundation?N=26y5', 'makeup-eyes-eyeshadow?N=26yf', 'makeup-eyes-eyeliner?N=26yh', 'skin-care-face-moisturizer?N=27h9', 'skin-care-cleansers-face-wash?N=27gs', 'hair-shampoo-conditioner-shampoo?N=1z13cdqZ27ii', 'hair-shampoo-conditioner-conditioner?N=27ik']"
   ]
  },
  {
   "cell_type": "code",
   "execution_count": 11,
   "metadata": {},
   "outputs": [
    {
     "name": "stdout",
     "output_type": "stream",
     "text": [
      "makeup-face-blush?N=277v\n",
      "------\n",
      "makeup-face-foundation?N=26y5\n",
      "------\n",
      "makeup-eyes-eyeshadow?N=26yf\n",
      "------\n",
      "makeup-eyes-eyeliner?N=26yh\n",
      "------\n",
      "skin-care-face-moisturizer?N=27h9\n",
      "------\n",
      "skin-care-cleansers-face-wash?N=27gs\n",
      "------\n",
      "hair-shampoo-conditioner-shampoo?N=1z13cdqZ27ii\n",
      "------\n",
      "hair-shampoo-conditioner-conditioner?N=27ik\n",
      "------\n"
     ]
    }
   ],
   "source": [
    "brand_list = []\n",
    "price_list = []\n",
    "rating_list = []\n",
    "product_list = []\n",
    "link_list = []\n",
    "\n",
    "\n",
    "#searches through the tabs and pages to generate a list of all products and information\n",
    "\n",
    "for search in search_list:\n",
    "    print(search)\n",
    "    print(\"------\")\n",
    "       \n",
    "    base_url = f\"https://www.ulta.com/{search}\"\n",
    "    source = requests.get(base_url).text\n",
    "    soup = BeautifulSoup(source, 'lxml')\n",
    "        \n",
    "    link = soup.find_all('p', class_='prod-desc')\n",
    "    for url in link:\n",
    "        link_list.append(url.a['href'])\n",
    "            \n",
    "    brands = soup.find_all('h4', class_='prod-title')\n",
    "    for brand in brands:\n",
    "        brand_list.append(brand.a.string)\n",
    "            \n",
    "    products = soup.find_all('p', class_='prod-desc')\n",
    "    for product in products:\n",
    "        product_list.append(product.a.string)\n",
    "            \n",
    "    prices = soup.find_all('span', class_='regPrice')\n",
    "    for price in prices:\n",
    "        price_list.append(price.string)"
   ]
  },
  {
   "cell_type": "code",
   "execution_count": 14,
   "metadata": {},
   "outputs": [],
   "source": [
    "# for link in link_list:\n",
    "#     base_url = \"https://www.ulta.com\" + link\n",
    "#     source = requests.get(base_url).text\n",
    "#     soup = BeautifulSoup(source, 'lxml')\n",
    "    \n",
    "#     ratings = soup.find_all('div', class_='pr-rating-stars')\n",
    "#     for rating in ratings:\n",
    "#         rating_list.append(rating.span.string)\n",
    "\n",
    "# pprint(rating_list)"
   ]
  },
  {
   "cell_type": "code",
   "execution_count": null,
   "metadata": {},
   "outputs": [],
   "source": []
  }
 ],
 "metadata": {
  "kernelspec": {
   "display_name": "Python 3",
   "language": "python",
   "name": "python3"
  },
  "language_info": {
   "codemirror_mode": {
    "name": "ipython",
    "version": 3
   },
   "file_extension": ".py",
   "mimetype": "text/x-python",
   "name": "python",
   "nbconvert_exporter": "python",
   "pygments_lexer": "ipython3",
   "version": "3.7.4"
  }
 },
 "nbformat": 4,
 "nbformat_minor": 2
}
